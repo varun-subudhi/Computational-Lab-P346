{
  "cells": [
    {
      "cell_type": "code",
      "source": [
        "import library\n",
        "import numpy as np\n",
        "import matplotlib.pyplot as plt\n",
        "import math"
      ],
      "metadata": {
        "id": "fhduAbV_oiYp"
      },
      "execution_count": 3,
      "outputs": []
    },
    {
      "cell_type": "code",
      "source": [
        "#1\n",
        "\n",
        "A = [[0.2,-5,3,0.4,0],\n",
        "     [-0.5,1,7,-2,0.3],\n",
        "     [0.6,2,-4,3,0.1],\n",
        "     [3,0.8,2,-0.4,3],\n",
        "     [0.5,3,2,0.4,1]]\n",
        "\n",
        "At = transpose(A,5)\n",
        "\n",
        "B1 = [1,0,0,0,0]\n",
        "B2 = [0,1,0,0,0]\n",
        "B3 = [0,0,1,0,0]\n",
        "B4 = [0,0,0,1,0]\n",
        "B5 = [0,0,0,0,1]\n",
        "\n",
        "print(\"The inverse of A is: \" )\n",
        "lu_decomp(At,B1,5)\n",
        "lu_decomp(At,B2,5)\n",
        "lu_decomp(At,B3,5)\n",
        "lu_decomp(At,B4,5)\n",
        "lu_decomp(At,B5,5)"
      ],
      "metadata": {
        "colab": {
          "base_uri": "https://localhost:8080/"
        },
        "id": "DSEzeIVS3PiU",
        "outputId": "25c0c8b7-79bb-4be3-e7be-e7bd300aa634"
      },
      "execution_count": 84,
      "outputs": [
        {
          "output_type": "stream",
          "name": "stdout",
          "text": [
            "The inverse of A is \n",
            "[-0.709, 2.53, 2.428, 0.967, -3.902]\n",
            "[-0.194, 0.309, 0.277, 0.058, -0.294]\n",
            "[0.021, 0.365, 0.284, 0.051, -0.29]\n",
            "[0.272, -0.131, 0.131, -0.141, 0.449]\n",
            "[0.78, -2.876, -2.68, -0.701, 4.234]\n"
          ]
        }
      ]
    },
    {
      "cell_type": "code",
      "source": [
        "# 2\n",
        "\n",
        "N0 = 5000\n",
        "nl = 5000\n",
        "nr = 0\n",
        "Nl = [5000]\n",
        "Nr = [0]\n",
        "rand = rand_lcg(3,17000)\n",
        "\n",
        "for t in range(17000):\n",
        "    if rand[t] <= nl/N0:\n",
        "        nl -= 1\n",
        "        nr += 1    \n",
        "    if rand[t] <= 1-nl/N0:\n",
        "        nl += 1\n",
        "        nr -= 1\n",
        "    Nl.append(nl)\n",
        "    Nr.append(nr)\n",
        "   \n",
        "plt.plot(Nl,color='r',label='No. of particles on left side')\n",
        "plt.plot(Nr,color='b',label='No. of particles on right side')\n",
        "plt.ylabel('No. of particles')\n",
        "plt.xlabel('Time (s)')\n",
        "plt.legend()\n",
        "plt.grid()\n",
        "plt.show()\n"
      ],
      "metadata": {
        "colab": {
          "base_uri": "https://localhost:8080/",
          "height": 279
        },
        "id": "6ZyddTNspbcy",
        "outputId": "62ae9c2e-bb63-4a31-d7d3-23c8529ad5b0"
      },
      "execution_count": 24,
      "outputs": [
        {
          "output_type": "display_data",
          "data": {
            "text/plain": [
              "<Figure size 432x288 with 1 Axes>"
            ],
            "image/png": "[encoded data removed]"
          },
          "metadata": {
            "needs_background": "light"
          }
        }
      ]
    },
    {
      "cell_type": "code",
      "source": [
        "# 3\n",
        "\n",
        "def F(x):\n",
        "  f = 2.5\n",
        "  e = 2.71828\n",
        "  return f - x*(e**x)\n",
        "\n",
        "r, e, i = newton_raphson(F, 1, 1e-6)\n",
        "ans3 = round(r,4)\n",
        "print(\"On solving given equation using Newton-Raphson, \\nWe measure that the spring is stretched by distance of: x =\", ans3, \"m\")"
      ],
      "metadata": {
        "colab": {
          "base_uri": "https://localhost:8080/"
        },
        "id": "11tZTMF_pJ5Y",
        "outputId": "38ca0332-3e79-4a0b-da44-81095cfc3c5d"
      },
      "execution_count": 13,
      "outputs": [
        {
          "output_type": "stream",
          "name": "stdout",
          "text": [
            "On solving given equation using Newton-Raphson, \n",
            "We measure that the spring is stretched by distance of: x = 0.9586 m\n"
          ]
        }
      ]
    },
    {
      "cell_type": "code",
      "source": [
        "# 4\n",
        "\n",
        "def T(x):\n",
        "  L = 1\n",
        "  g = 9.8\n",
        "  a = math.sin(math.pi/8)\n",
        "  c = 4*(L/g)**(1/2)\n",
        "  t = 1-(a*math.sin(x))**2\n",
        "  return c/(t)**(1/2)\n",
        "\n",
        "\n",
        "a = 0\n",
        "b = math.pi/2\n",
        "ans4 = round(simpson(T,a,b,10),4)\n",
        "print(\"The time period of oscillation T calculated by Simpson integration technique is:\", ans4, \"s.\")"
      ],
      "metadata": {
        "colab": {
          "base_uri": "https://localhost:8080/"
        },
        "id": "w0JDH8hToxvx",
        "outputId": "1c60922b-8874-405a-fd35-6e8f61aa31e8"
      },
      "execution_count": 8,
      "outputs": [
        {
          "output_type": "stream",
          "name": "stdout",
          "text": [
            "The time period of oscillation T calculated by Simpson integration technique is: 1.9987 s.\n"
          ]
        }
      ]
    },
    {
      "cell_type": "code",
      "source": [
        "# 5\n",
        "\n",
        "v0 = 10\n",
        "print(\"The maximum height reached by the object:\",(10**2)/(2*10), \"units.\")\n",
        "\n",
        "def dvdt(x,y,t):\n",
        "  gamma = 0.02\n",
        "  g = 10\n",
        "  return -(gamma*y) - g\n",
        "\n",
        "def dxdt(x,y,t):\n",
        "  return y\n",
        "\n",
        "runge_kutta(0, 10, 0, dxdt, dvdt, 2)"
      ],
      "metadata": {
        "colab": {
          "base_uri": "https://localhost:8080/",
          "height": 296
        },
        "id": "qLRsVmMsybxa",
        "outputId": "2fe92faf-f0fc-4a28-aa25-33b77a957325"
      },
      "execution_count": 65,
      "outputs": [
        {
          "output_type": "stream",
          "name": "stdout",
          "text": [
            "The maximum height reached by the object: 5.0\n"
          ]
        },
        {
          "output_type": "display_data",
          "data": {
            "text/plain": [
              "<Figure size 432x288 with 1 Axes>"
            ],
            "image/png": "[encoded data removed]"
          },
          "metadata": {
            "needs_background": "light"
          }
        }
      ]
    },
    {
      "cell_type": "code",
      "execution_count": 5,
      "metadata": {
        "colab": {
          "base_uri": "https://localhost:8080/"
        },
        "id": "WOdm-44toYih",
        "outputId": "9539a698-6ae9-456c-dfd4-53f21c7185de"
      },
      "outputs": [
        {
          "output_type": "stream",
          "name": "stdout",
          "text": [
            "The dominant eigenvalue corresponding to A:  7.9997\n",
            "The normalized eigenvector corresponding to the dominant eigenvalue:  [[-0.198   0.6931  0.6931  0.    ]]\n"
          ]
        }
      ],
      "source": [
        "# 6 \n",
        "\n",
        "A = np.matrix([[1,-2,0,5],\n",
        "               [0,7,1,5],\n",
        "               [0,4,4,0],\n",
        "               [0,0,0,2]])\n",
        "x0 = np.matrix([1.0,0.0,1.0,1.0])                 # initial guess for eigenvector\n",
        "xk = np.matrix([0.0,0.0,0.0,0.0])\n",
        "\n",
        "l1,xk = eigen(A,x0,xk)\n",
        "dom = round(l1,4)\n",
        "print(\"The dominant eigenvalue corresponding to A: \",dom)\n",
        "sum = 0\n",
        "for i in range(0,3):\n",
        "    sum += (xk[0,i]**2)\n",
        "sum1 = math.sqrt(sum)\n",
        "for i in range(0,3):\n",
        "    xk[0,i] = round((xk[0,i]/sum1),4)\n",
        "print(\"The normalized eigenvector corresponding to the dominant eigenvalue: \",xk)"
      ]
    },
    {
      "cell_type": "code",
      "execution_count": null,
      "metadata": {
        "id": "IEQNq8CFoYii",
        "outputId": "f6ae7a2a-fbe2-4d2e-b550-96f9bbac1acb"
      },
      "outputs": [
        {
          "name": "stdout",
          "output_type": "stream",
          "text": [
            "The coefficients of the required function are:\n",
            "(The answer is in the form [a0], [a1], [a2], [a3],[a4])\n",
            "[0.254630]\n",
            "[-1.193759]\n",
            "[-0.457255]\n",
            "[-0.802565]\n",
            "[0.013239]\n"
          ]
        }
      ],
      "source": [
        "# 7\n",
        "\n",
        "filename = \"esem4fit.txt\"\n",
        "with open(filename) as f:\n",
        "    x, y = [], []\n",
        "    points = f.readlines()\n",
        "    for point in points:\n",
        "        s = point.split()\n",
        "        x.append([float(s[0])])\n",
        "        y.append([float(s[1])])\n",
        "\n",
        "ans = polyfit(x, y, 5)\n",
        "print(\"The coefficients of the required function are:\")\n",
        "print(\"(The answer is in the form [a0], [a1], [a2], [a3],[a4])\")\n",
        "for i in range(len(ans)):\n",
        "    print(\"[\"+\"{:.6f}\".format(ans[i][0])+\"]\")"
      ]
    }
  ],
  "metadata": {
    "kernelspec": {
      "display_name": "Python 3.10.6 64-bit",
      "language": "python",
      "name": "python3"
    },
    "language_info": {
      "codemirror_mode": {
        "name": "ipython",
        "version": 3
      },
      "file_extension": ".py",
      "mimetype": "text/x-python",
      "name": "python",
      "nbconvert_exporter": "python",
      "pygments_lexer": "ipython3",
      "version": "3.10.6"
    },
    "orig_nbformat": 4,
    "vscode": {
      "interpreter": {
        "hash": "50e8ff4dc18273c8a60caf9b434adff2a994cfb96f0576c448d8feeb905c92d3"
      }
    },
    "colab": {
      "provenance": []
    }
  },
  "nbformat": 4,
  "nbformat_minor": 0
}