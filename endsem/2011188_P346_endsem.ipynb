{
  "nbformat": 4,
  "nbformat_minor": 0,
  "metadata": {
    "colab": {
      "provenance": []
    },
    "kernelspec": {
      "name": "python3",
      "display_name": "Python 3"
    },
    "language_info": {
      "name": "python"
    }
  },
  "cells": [
    {
      "cell_type": "markdown",
      "source": [
        "$1.$"
      ],
      "metadata": {
        "id": "NSyn1qZHb3-K"
      }
    },
    {
      "cell_type": "code",
      "execution_count": 83,
      "metadata": {
        "colab": {
          "base_uri": "https://localhost:8080/"
        },
        "id": "cL2qYHgz07so",
        "outputId": "2d3a78f3-b71c-4c52-d044-98439b5248a9"
      },
      "outputs": [
        {
          "output_type": "stream",
          "name": "stdout",
          "text": [
            "As the determinant of A is = 290.93600000000015\n",
            "A is non-singular and its inverse exists.\n"
          ]
        }
      ],
      "source": [
        "# 1\n",
        "\n",
        "A = [[0.2,-5,3,0.4,0],\n",
        "     [-0.5,1,7,-2,0.3],\n",
        "     [0.6,2,-4,3,0.1],\n",
        "     [3,0.8,2,-0.4,3],\n",
        "     [0.5,3,2,0.4,1]]\n",
        "\n",
        "det_A = determinant(A)\n",
        "if det_A != 0:\n",
        "  print(\"As the determinant of A is =\" ,det_A)\n",
        "  print(\"A is non-singular and its inverse exists.\")\n",
        "  #LU_decomp(A)\n",
        "else:\n",
        "  print(\"The determinant of A is 0, hence is non-invertible.\")"
      ]
    },
    {
      "cell_type": "markdown",
      "source": [
        "$2.$"
      ],
      "metadata": {
        "id": "2hXl4khfc9pf"
      }
    },
    {
      "cell_type": "code",
      "source": [
        "# 2\n",
        "\n",
        "import matplotlib.pyplot as plt\n",
        "N0 = 5000\n",
        "nl = 5000\n",
        "nr = 0\n",
        "Nl = [5000]\n",
        "Nr = [0]\n",
        "rand = rand_lcg(0.1)\n",
        "\n",
        "for t in range(17000):\n",
        "    if rand[t] <= nl/N0:\n",
        "        nl -= 1\n",
        "        nr += 1    \n",
        "    if rand[t] <= 1-nl/N0:\n",
        "        nl += 1\n",
        "        nr -= 1\n",
        "    Nl.append(nl)\n",
        "    Nr.append(nr)\n",
        "   \n",
        "plt.plot(Nl,color='r',label='No. of particles on left side')\n",
        "plt.plot(Nr,color='g',label='No. of particles on right side')\n",
        "plt.ylabel('No of particles')\n",
        "plt.xlabel('Time (in seconds)')\n",
        "plt.legend()\n",
        "plt.grid()\n",
        "plt.show()\n"
      ],
      "metadata": {
        "colab": {
          "base_uri": "https://localhost:8080/",
          "height": 236
        },
        "id": "UKBf7Plcc_Im",
        "outputId": "9fa96fc8-a6d3-497a-8f7b-522901164bda"
      },
      "execution_count": 88,
      "outputs": [
        {
          "output_type": "error",
          "ename": "TypeError",
          "evalue": "ignored",
          "traceback": [
            "\u001b[0;31m---------------------------------------------------------------------------\u001b[0m",
            "\u001b[0;31mTypeError\u001b[0m                                 Traceback (most recent call last)",
            "\u001b[0;32m<ipython-input-88-18b484b6ddb1>\u001b[0m in \u001b[0;36m<module>\u001b[0;34m\u001b[0m\n\u001b[1;32m     10\u001b[0m \u001b[0;34m\u001b[0m\u001b[0m\n\u001b[1;32m     11\u001b[0m \u001b[0;32mfor\u001b[0m \u001b[0mt\u001b[0m \u001b[0;32min\u001b[0m \u001b[0mrange\u001b[0m\u001b[0;34m(\u001b[0m\u001b[0;36m17000\u001b[0m\u001b[0;34m)\u001b[0m\u001b[0;34m:\u001b[0m\u001b[0;34m\u001b[0m\u001b[0;34m\u001b[0m\u001b[0m\n\u001b[0;32m---> 12\u001b[0;31m     \u001b[0;32mif\u001b[0m \u001b[0mrand\u001b[0m\u001b[0;34m[\u001b[0m\u001b[0mt\u001b[0m\u001b[0;34m]\u001b[0m \u001b[0;34m<=\u001b[0m \u001b[0mnl\u001b[0m\u001b[0;34m/\u001b[0m\u001b[0mN0\u001b[0m\u001b[0;34m:\u001b[0m\u001b[0;34m\u001b[0m\u001b[0;34m\u001b[0m\u001b[0m\n\u001b[0m\u001b[1;32m     13\u001b[0m         \u001b[0mnl\u001b[0m \u001b[0;34m-=\u001b[0m \u001b[0;36m1\u001b[0m\u001b[0;34m\u001b[0m\u001b[0;34m\u001b[0m\u001b[0m\n\u001b[1;32m     14\u001b[0m         \u001b[0mnr\u001b[0m \u001b[0;34m+=\u001b[0m \u001b[0;36m1\u001b[0m\u001b[0;34m\u001b[0m\u001b[0;34m\u001b[0m\u001b[0m\n",
            "\u001b[0;31mTypeError\u001b[0m: 'float' object is not subscriptable"
          ]
        }
      ]
    },
    {
      "cell_type": "markdown",
      "source": [
        "$3.F(x) = F - xexp(x); F = 2.5N$"
      ],
      "metadata": {
        "id": "VZj-Gw3U83Ks"
      }
    },
    {
      "cell_type": "code",
      "source": [
        "# 3\n",
        "\n",
        "def F(x):\n",
        "  f = 2.5\n",
        "  e = 2.71828\n",
        "  return f - x*(e**x)\n",
        "\n",
        "r, e, i = newton_raphson(F, 1, 1e-6)\n",
        "print(\"On solving given equation using Newton-Raphson, \\nWe measure that the spring is stretched by distance of: x =\", r, \"m\")"
      ],
      "metadata": {
        "colab": {
          "base_uri": "https://localhost:8080/"
        },
        "id": "T_MH711v3Lyt",
        "outputId": "323e05b0-d28e-49af-d3ae-d3f4c4df4c5f"
      },
      "execution_count": 48,
      "outputs": [
        {
          "output_type": "stream",
          "name": "stdout",
          "text": [
            "On solving given equation using Newton-Raphson, \n",
            "We measure that the spring is stretched by distance of: x = 0.9585866723096993 m\n"
          ]
        }
      ]
    },
    {
      "cell_type": "markdown",
      "source": [
        "$4. T = 4\\sqrt{L/g}∫d\\phi/\\sqrt{1-a^2sin^2\\phi}$"
      ],
      "metadata": {
        "id": "jFXp2VOuJ95j"
      }
    },
    {
      "cell_type": "code",
      "source": [
        "# 4\n",
        "\n",
        "import math\n",
        "\n",
        "def T(x):\n",
        "  L = 1\n",
        "  g = 9.8\n",
        "  a = math.sin(math.pi/8)\n",
        "  c = 4*(L/g)**(1/2)\n",
        "  t = 1-(a*math.sin(x))**2\n",
        "  return c/(t)**(1/2)\n",
        "\n",
        "\n",
        "a = 0\n",
        "b = math.pi/2\n",
        "\n",
        "print(\"The time period of oscillation T calculated by Simpson integration technique is:\", simpson(T,a,b,10), \"s.\")"
      ],
      "metadata": {
        "colab": {
          "base_uri": "https://localhost:8080/"
        },
        "id": "7qvyIXWwCGGJ",
        "outputId": "a92f34aa-7810-4c8f-81b6-daf53e633c40"
      },
      "execution_count": 59,
      "outputs": [
        {
          "output_type": "stream",
          "name": "stdout",
          "text": [
            "The time period of oscillation T calculated by Simpson integration technique is: 1.9986709743769104 s.\n"
          ]
        }
      ]
    },
    {
      "cell_type": "markdown",
      "source": [
        "$5.$"
      ],
      "metadata": {
        "id": "ppihEOSwUKrQ"
      }
    },
    {
      "cell_type": "code",
      "source": [
        "def runge_kutta(x0, v0, t, dxdt, dvdt, dt, tn):\n",
        "    import matplotlib.pyplot as plt\n",
        "    X = []\n",
        "    V = []\n",
        "    T = []\n",
        "    while t < tn:\n",
        "        T.append(t)\n",
        "        k1x = dt*dxdt(x0, v0, t)\n",
        "        k1v = dt*dvdt(x0,v0,t)\n",
        "        \n",
        "        k2x = dt*dxdt(x0+(k1x/2), v0+(k1v/2), t+(dt/2))\n",
        "        k2v = dt*dvdt(x0+(k1x/2), v0+(k1v/2), t+(dt/2))\n",
        "        \n",
        "        k3x = dt*dxdt(x0+(k2x/2), v0+(k2v/2), t+(dt/2))\n",
        "        k3v = dt*dvdt(x0+(k2x/2), v0+(k2v/2), t+(dt/2))        \n",
        "        \n",
        "        k4x = dt*dxdt(x0+(k3x/2), v0+(k3v/2), t+(dt/2))\n",
        "        k4v = dt*dvdt(x0+(k3x/2), v0+(k3v/2), t+(dt/2))        \n",
        "        \n",
        "        x0 += (k1x + 2*k2x + 2*k3x + k4x)/6\n",
        "        v0 += (k1v + 2*k2v + 2*k3v + k4v)/6\n",
        "        t += dt\n",
        "        X.append(x0)\n",
        "        V.append(v0)\n",
        "        plt.plot(T, X, color=\"blue\")\n",
        "        plt.plot(T, V, color=\"red\")"
      ],
      "metadata": {
        "id": "V4J1oMduTtpn"
      },
      "execution_count": null,
      "outputs": []
    },
    {
      "cell_type": "code",
      "source": [
        "# 5\n",
        "\n",
        "def dydt(y, v, t):\n",
        "    return v\n",
        "\n",
        "def d2ydt2(y, v, t):\n",
        "    g = 10\n",
        "    gamma = 0.02\n",
        "    return math.cos(omega*t) - (gamma/2)*v - y\n",
        "\n",
        "y0 = 2\n",
        "y_dot0 = -1\n",
        "t0 = 0\n",
        "dt = 0.1\n",
        "tn = 40\n",
        "\n",
        "runge_kutta(y0, y_dot0, t0, dydt, d2ydt2, dt , tn)\n",
        "# blue line represents y and red line represents dy/dt\n",
        "plt.xlabel(\"Time (t)\")\n",
        "plt.ylabel(\"Position (y)\")"
      ],
      "metadata": {
        "id": "Exluj_LnTlja"
      },
      "execution_count": null,
      "outputs": []
    },
    {
      "cell_type": "markdown",
      "source": [
        "$6.$"
      ],
      "metadata": {
        "id": "7gMY-G0kcFT7"
      }
    },
    {
      "cell_type": "code",
      "source": [
        "# 6 \n",
        "\n",
        "import numpy as np\n",
        "\n",
        "A = np.matrix([[1,-2,0,5],\n",
        "               [0,7,1,5],\n",
        "               [0,4,4,0],\n",
        "               [0,0,0,2]])\n",
        "x0 = np.matrix([1.0,0.0,1.0,1.0])                 # initial guess for eigenvector\n",
        "xk = np.matrix([0.0,0.0,0.0,0.0])\n",
        "\n",
        "l1,xk = eigen(A,x0,xk)\n",
        "dom = round(l1,4)\n",
        "print(\"The dominant eigenvalue corresponding to A: \",\"{:.4f}\",dom)\n",
        "sum = 0\n",
        "for i in range(0,3):\n",
        "    sum += (xk[0,i]**2)\n",
        "sum1 = math.sqrt(sum)\n",
        "for i in range(0,3):\n",
        "    xk[0,i] = round((xk[0,i]/sum1),4)\n",
        "print(\"The normalized eigenvector corresponding to the dominant eigenvalue: \",xk)"
      ],
      "metadata": {
        "colab": {
          "base_uri": "https://localhost:8080/"
        },
        "id": "ib7txWatZTqJ",
        "outputId": "152b0dc0-7809-45b7-c4b6-140a23bc43d7"
      },
      "execution_count": 81,
      "outputs": [
        {
          "output_type": "stream",
          "name": "stdout",
          "text": [
            "The dominant eigenvalue corresponding to A:  {:.4f} 7.9997\n",
            "The normalized eigenvector corresponding to the dominant eigenvalue:  [[-0.198   0.6931  0.6931  0.    ]]\n"
          ]
        }
      ]
    },
    {
      "cell_type": "markdown",
      "source": [
        "$7.$"
      ],
      "metadata": {
        "id": "wJsw4lxZcUpo"
      }
    },
    {
      "cell_type": "code",
      "source": [
        "def read_matrix(file):\n",
        "    with open(file, 'r') as f:\n",
        "        a = [[int(num) for num in line.split(' ')] for line in f]\n",
        "    return a\n",
        "\n",
        "def give_X(B):\n",
        "    X = [[B[i][len(B)] for j in range(1)] for i in range(len(B))]\n",
        "    return X\n",
        "\n",
        "def gj_elim(M):\n",
        "    for i in range(len(M)):\n",
        "        if M[i][i] == 0:\n",
        "            for j in range(i+1, len(M)):\n",
        "               if M[j][i]**2 > M[i][i]**2:\n",
        "                  M[j], M[i] = M[i], M[j]\n",
        "        M[i] = [x/M[i][i] for x in M[i]]\n",
        "        for j in range(i+1, len(M)):\n",
        "            c_down = (M[j][i])/(M[i][i])\n",
        "            for p in range(len(M[0])):\n",
        "                M[j][p] = M[j][p] - c_down*M[i][p]\n",
        "    for i in range(len(M)-1, 0, -1):\n",
        "        for j in range(i):\n",
        "            for q in range(len(M[0])-1, 0, -1):\n",
        "                M[j][q] = M[j][q] - M[j][i]*M[i][q]\n",
        "    return M\n"
      ],
      "metadata": {
        "id": "ABAeW2DQVESD"
      },
      "execution_count": 54,
      "outputs": []
    },
    {
      "cell_type": "code",
      "source": [
        "def polyfit(x, y, o): # o is the max order of polynomial\n",
        "    N = []\n",
        "    for i in range(o):\n",
        "        r = []\n",
        "        for j in range(o):\n",
        "            sum2 = 0\n",
        "            for k in range(len(x)):\n",
        "                sum2 += (x[k][0]**(i+j))\n",
        "            r.append(sum2)\n",
        "        sum1 = 0\n",
        "        for l in range(len(y)):\n",
        "            sum1 += ((x[l][0]**i)*y[l][0])\n",
        "        r.append(sum1)\n",
        "        N.append(r)\n",
        "    X = give_X(gj_elim(N))\n",
        "    return X"
      ],
      "metadata": {
        "id": "hpWWEe3uU3a5"
      },
      "execution_count": 56,
      "outputs": []
    },
    {
      "cell_type": "code",
      "source": [
        "# 7\n",
        "\n",
        "d = read_matrix('esem4fit.txt')\n",
        "\n",
        "x = []\n",
        "y = []\n",
        "for i in range(len(d)):\n",
        "  x.append(d[i][0])\n",
        "  y.append(d[i][1])\n",
        "\n",
        "polyfit(x,y,4)"
      ],
      "metadata": {
        "colab": {
          "base_uri": "https://localhost:8080/",
          "height": 323
        },
        "id": "h5sOzTeEXx1u",
        "outputId": "5a06959d-a3a5-4c07-f816-5d30205f02a9"
      },
      "execution_count": 84,
      "outputs": [
        {
          "output_type": "error",
          "ename": "TypeError",
          "evalue": "ignored",
          "traceback": [
            "\u001b[0;31m---------------------------------------------------------------------------\u001b[0m",
            "\u001b[0;31mTypeError\u001b[0m                                 Traceback (most recent call last)",
            "\u001b[0;32m<ipython-input-84-29d5f57e527a>\u001b[0m in \u001b[0;36m<module>\u001b[0;34m\u001b[0m\n\u001b[1;32m      5\u001b[0m   \u001b[0my\u001b[0m\u001b[0;34m.\u001b[0m\u001b[0mappend\u001b[0m\u001b[0;34m(\u001b[0m\u001b[0md\u001b[0m\u001b[0;34m[\u001b[0m\u001b[0mi\u001b[0m\u001b[0;34m]\u001b[0m\u001b[0;34m[\u001b[0m\u001b[0;36m1\u001b[0m\u001b[0;34m]\u001b[0m\u001b[0;34m)\u001b[0m\u001b[0;34m\u001b[0m\u001b[0;34m\u001b[0m\u001b[0m\n\u001b[1;32m      6\u001b[0m \u001b[0;34m\u001b[0m\u001b[0m\n\u001b[0;32m----> 7\u001b[0;31m \u001b[0mpolyfit\u001b[0m\u001b[0;34m(\u001b[0m\u001b[0mx\u001b[0m\u001b[0;34m,\u001b[0m\u001b[0my\u001b[0m\u001b[0;34m,\u001b[0m\u001b[0;36m4\u001b[0m\u001b[0;34m)\u001b[0m\u001b[0;34m\u001b[0m\u001b[0;34m\u001b[0m\u001b[0m\n\u001b[0m",
            "\u001b[0;32m<ipython-input-56-0b379b854e61>\u001b[0m in \u001b[0;36mpolyfit\u001b[0;34m(x, y, o)\u001b[0m\n\u001b[1;32m      6\u001b[0m             \u001b[0msum2\u001b[0m \u001b[0;34m=\u001b[0m \u001b[0;36m0\u001b[0m\u001b[0;34m\u001b[0m\u001b[0;34m\u001b[0m\u001b[0m\n\u001b[1;32m      7\u001b[0m             \u001b[0;32mfor\u001b[0m \u001b[0mk\u001b[0m \u001b[0;32min\u001b[0m \u001b[0mrange\u001b[0m\u001b[0;34m(\u001b[0m\u001b[0mlen\u001b[0m\u001b[0;34m(\u001b[0m\u001b[0mx\u001b[0m\u001b[0;34m)\u001b[0m\u001b[0;34m)\u001b[0m\u001b[0;34m:\u001b[0m\u001b[0;34m\u001b[0m\u001b[0;34m\u001b[0m\u001b[0m\n\u001b[0;32m----> 8\u001b[0;31m                 \u001b[0msum2\u001b[0m \u001b[0;34m+=\u001b[0m \u001b[0;34m(\u001b[0m\u001b[0mx\u001b[0m\u001b[0;34m[\u001b[0m\u001b[0mk\u001b[0m\u001b[0;34m]\u001b[0m\u001b[0;34m[\u001b[0m\u001b[0;36m0\u001b[0m\u001b[0;34m]\u001b[0m\u001b[0;34m**\u001b[0m\u001b[0;34m(\u001b[0m\u001b[0mi\u001b[0m\u001b[0;34m+\u001b[0m\u001b[0mj\u001b[0m\u001b[0;34m)\u001b[0m\u001b[0;34m)\u001b[0m\u001b[0;34m\u001b[0m\u001b[0;34m\u001b[0m\u001b[0m\n\u001b[0m\u001b[1;32m      9\u001b[0m             \u001b[0mr\u001b[0m\u001b[0;34m.\u001b[0m\u001b[0mappend\u001b[0m\u001b[0;34m(\u001b[0m\u001b[0msum2\u001b[0m\u001b[0;34m)\u001b[0m\u001b[0;34m\u001b[0m\u001b[0;34m\u001b[0m\u001b[0m\n\u001b[1;32m     10\u001b[0m         \u001b[0msum1\u001b[0m \u001b[0;34m=\u001b[0m \u001b[0;36m0\u001b[0m\u001b[0;34m\u001b[0m\u001b[0;34m\u001b[0m\u001b[0m\n",
            "\u001b[0;31mTypeError\u001b[0m: 'float' object is not subscriptable"
          ]
        }
      ]
    }
  ]
}